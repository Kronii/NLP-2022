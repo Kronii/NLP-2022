{
 "cells": [
  {
   "cell_type": "code",
   "execution_count": 62,
   "metadata": {},
   "outputs": [],
   "source": [
    "import os\n",
    "import json\n",
    "import matplotlib.pyplot as plt\n",
    "import math\n",
    "from collections import defaultdict\n",
    "import numpy as np\n",
    "import random"
   ]
  },
  {
   "cell_type": "code",
   "execution_count": 63,
   "metadata": {},
   "outputs": [],
   "source": [
    "with open(os.path.join(\"data\", \"final_data.json\"), \"r\") as f:\n",
    "    data = json.loads(f.read())"
   ]
  },
  {
   "cell_type": "code",
   "execution_count": 65,
   "metadata": {},
   "outputs": [],
   "source": [
    "all_comments = []\n",
    "for article in data:\n",
    "    all_comments.append(article[\"total_comments\"])"
   ]
  },
  {
   "cell_type": "code",
   "execution_count": 66,
   "metadata": {},
   "outputs": [],
   "source": [
    "def boostrap(sample):\n",
    "    boot_means = []\n",
    "    boot_stds = []\n",
    "    for _ in range(100):\n",
    "        boot_sample = np.random.choice(sample,replace = True, size = 1000)\n",
    "        boot_means.append(np.mean(boot_sample))\n",
    "        boot_stds.append(np.std(boot_sample))\n",
    "    return np.array(boot_means), np.array(boot_stds)"
   ]
  },
  {
   "cell_type": "code",
   "execution_count": 67,
   "metadata": {},
   "outputs": [
    {
     "name": "stdout",
     "output_type": "stream",
     "text": [
      "49.44946000000001 24.931442147197092\n"
     ]
    }
   ],
   "source": [
    "m, s = boostrap(all_comments)\n",
    "print(np.mean(m), np.std(s))"
   ]
  },
  {
   "cell_type": "code",
   "execution_count": 68,
   "metadata": {},
   "outputs": [],
   "source": [
    "lower_cutoff = np.mean(m) - (3 *  np.std(s))\n",
    "upper_cutoff = np.mean(m) + (3 *  np.std(s))"
   ]
  },
  {
   "cell_type": "code",
   "execution_count": 69,
   "metadata": {},
   "outputs": [],
   "source": [
    "usable_articles = [i for i in all_comments if i > lower_cutoff and i < upper_cutoff]"
   ]
  },
  {
   "cell_type": "code",
   "execution_count": 70,
   "metadata": {},
   "outputs": [
    {
     "data": {
      "text/plain": [
       "3942"
      ]
     },
     "execution_count": 70,
     "metadata": {},
     "output_type": "execute_result"
    }
   ],
   "source": [
    "max(all_comments)"
   ]
  },
  {
   "cell_type": "code",
   "execution_count": 71,
   "metadata": {},
   "outputs": [],
   "source": [
    "data_sorted = sorted(data, key=lambda item: item[\"total_comments\"], reverse=True)"
   ]
  },
  {
   "cell_type": "code",
   "execution_count": 73,
   "metadata": {},
   "outputs": [
    {
     "data": {
      "text/plain": [
       "1829"
      ]
     },
     "execution_count": 73,
     "metadata": {},
     "output_type": "execute_result"
    }
   ],
   "source": [
    "int(len(data_sorted) / 5)"
   ]
  },
  {
   "cell_type": "code",
   "execution_count": 78,
   "metadata": {},
   "outputs": [
    {
     "name": "stdout",
     "output_type": "stream",
     "text": [
      "64\n",
      "25\n",
      "10\n",
      "3\n",
      "0\n"
     ]
    }
   ],
   "source": [
    "for i in range(int(len(data_sorted) / 5), len(data_sorted), int(len(data_sorted) / 5)):\n",
    "    print(data_sorted[i][\"total_comments\"])"
   ]
  },
  {
   "cell_type": "code",
   "execution_count": null,
   "metadata": {},
   "outputs": [],
   "source": []
  }
 ],
 "metadata": {
  "interpreter": {
   "hash": "91cf9a5485bc5cf80c50b0f783081678cd13946f7f44ba711572ffa37ce51276"
  },
  "kernelspec": {
   "display_name": "Python 3.9.10 ('nlp')",
   "language": "python",
   "name": "python3"
  },
  "language_info": {
   "codemirror_mode": {
    "name": "ipython",
    "version": 3
   },
   "file_extension": ".py",
   "mimetype": "text/x-python",
   "name": "python",
   "nbconvert_exporter": "python",
   "pygments_lexer": "ipython3",
   "version": "3.9.10"
  },
  "orig_nbformat": 4
 },
 "nbformat": 4,
 "nbformat_minor": 2
}
