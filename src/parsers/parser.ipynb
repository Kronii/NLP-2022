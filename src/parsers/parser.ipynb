{
 "cells": [
  {
   "cell_type": "code",
   "execution_count": 54,
   "metadata": {},
   "outputs": [],
   "source": [
    "import os\n",
    "import json"
   ]
  },
  {
   "cell_type": "code",
   "execution_count": 55,
   "metadata": {},
   "outputs": [],
   "source": [
    "path = \"./data\""
   ]
  },
  {
   "cell_type": "code",
   "execution_count": 56,
   "metadata": {},
   "outputs": [],
   "source": [
    "with open(os.path.join(path, \"intermediate_data_export.json\"), \"r\") as f:\n",
    "    line = f.readline()"
   ]
  },
  {
   "cell_type": "code",
   "execution_count": 57,
   "metadata": {},
   "outputs": [],
   "source": [
    "count = 1\n",
    "start_idx = 0\n",
    "for idx in range(len(line)):\n",
    "    if line[idx] == \"]\" and (idx == len(line)-1 or (line[idx+1] == \"[\" and line[idx+2] == \"{\")):\n",
    "\n",
    "        filename = \"batch_\" + str(count) + \".json\"\n",
    "        with open(os.path.join(path, \"disjoint\", filename), \"w\", encoding='utf-8') as f:\n",
    "            f.write(line[start_idx:idx+1])\n",
    "\n",
    "        start_idx = idx+1\n",
    "        count += 1\n"
   ]
  },
  {
   "cell_type": "code",
   "execution_count": 58,
   "metadata": {},
   "outputs": [
    {
     "name": "stdout",
     "output_type": "stream",
     "text": [
      "1770\n"
     ]
    }
   ],
   "source": [
    "print(count)"
   ]
  },
  {
   "cell_type": "code",
   "execution_count": 60,
   "metadata": {},
   "outputs": [],
   "source": [
    "all_data = []\n",
    "for i in range(1, count):\n",
    "    filename = \"batch_\" + str(i) + \".json\"\n",
    "    with open(os.path.join(path, \"disjoint\", filename), \"r\") as f:\n",
    "        batch = json.loads(f.read())\n",
    "\n",
    "        all_data.extend(batch)"
   ]
  },
  {
   "cell_type": "code",
   "execution_count": 61,
   "metadata": {},
   "outputs": [],
   "source": [
    "with open(os.path.join(path, \"data.json\"), \"w\", encoding='utf-8') as f:\n",
    "    json.dump(all_data, f, ensure_ascii=True)"
   ]
  },
  {
   "cell_type": "code",
   "execution_count": 74,
   "metadata": {},
   "outputs": [],
   "source": [
    "filtered_data = []\n",
    "set_of_urls = set()\n",
    "\n",
    "for idx, article in enumerate(all_data):\n",
    "    if \"url\" not in article.keys():\n",
    "        continue\n",
    "    if article[\"url\"] not in set_of_urls:\n",
    "        set_of_urls.add(article[\"url\"])\n",
    "        filtered_data.append(article)"
   ]
  },
  {
   "cell_type": "code",
   "execution_count": 76,
   "metadata": {},
   "outputs": [
    {
     "data": {
      "text/plain": [
       "9148"
      ]
     },
     "execution_count": 76,
     "metadata": {},
     "output_type": "execute_result"
    }
   ],
   "source": [
    "len(filtered_data)"
   ]
  },
  {
   "cell_type": "code",
   "execution_count": 77,
   "metadata": {},
   "outputs": [],
   "source": [
    "with open(os.path.join(path, \"filtered_data.json\"), \"w\", encoding='utf-8') as f:\n",
    "    json.dump(filtered_data, f, ensure_ascii=True)"
   ]
  },
  {
   "cell_type": "code",
   "execution_count": null,
   "metadata": {},
   "outputs": [],
   "source": []
  }
 ],
 "metadata": {
  "interpreter": {
   "hash": "435f92d797df99c4d270e8fe01e9bafa42c6bdf56e6fcdae94c07bbcd7b0c293"
  },
  "kernelspec": {
   "display_name": "Python 3.9.4 ('venv': venv)",
   "language": "python",
   "name": "python3"
  },
  "language_info": {
   "codemirror_mode": {
    "name": "ipython",
    "version": 3
   },
   "file_extension": ".py",
   "mimetype": "text/x-python",
   "name": "python",
   "nbconvert_exporter": "python",
   "pygments_lexer": "ipython3",
   "version": "3.9.4"
  },
  "orig_nbformat": 4
 },
 "nbformat": 4,
 "nbformat_minor": 2
}
