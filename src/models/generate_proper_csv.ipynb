{
 "cells": [
  {
   "cell_type": "code",
   "execution_count": 3,
   "metadata": {},
   "outputs": [],
   "source": [
    "import os\n",
    "import json\n",
    "import csv"
   ]
  },
  {
   "cell_type": "code",
   "execution_count": 9,
   "metadata": {},
   "outputs": [],
   "source": [
    "with open(os.path.join(\"../../data\", \"data.json\"), \"r\") as f:\n",
    "    data = json.load(f)"
   ]
  },
  {
   "cell_type": "code",
   "execution_count": 18,
   "metadata": {},
   "outputs": [],
   "source": [
    "header = ['category', 'text']\n",
    "with open(os.path.join(\"../../data\", \"data.csv\"), 'w+', newline='', encoding=\"utf-8\") as f:\n",
    "    writer = csv.writer(f)\n",
    "    # write a row to the csv file\n",
    "    writer.writerow(header)\n",
    "    for article in data:\n",
    "        content = article[\"content\"].replace(\"\\n\", \"\")\n",
    "        # content = article[\"content\"].replace(\"\\\"\", \"\")\n",
    "        if len(content) < 2:\n",
    "            continue\n",
    "        writer.writerow([article[\"comment_category\"], content]) "
   ]
  }
 ],
 "metadata": {
  "interpreter": {
   "hash": "21ba0339d903abdf0cd280e2cb6be5966df57d65c60589b60f7702a8600923b1"
  },
  "kernelspec": {
   "display_name": "Python 3.9.12",
   "language": "python",
   "name": "python3"
  },
  "language_info": {
   "codemirror_mode": {
    "name": "ipython",
    "version": 3
   },
   "file_extension": ".py",
   "mimetype": "text/x-python",
   "name": "python",
   "nbconvert_exporter": "python",
   "pygments_lexer": "ipython3",
   "version": "3.9.12"
  },
  "orig_nbformat": 4
 },
 "nbformat": 4,
 "nbformat_minor": 2
}
